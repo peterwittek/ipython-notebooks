{
 "cells": [
  {
   "cell_type": "markdown",
   "metadata": {},
   "source": [
    "The Tsirelson bound on the Clauser-Horne-Shimony-Holt inequality defines the maximum value on quantum correlations in a bipartite system where the two sites have two measurements each, with two possible outcomes [1].\n",
    "\n",
    "The problem of finding the maximum quantum violation can be cast as a polynomial optimization problem of noncommuting variables, which in turn is approximated by a hierarchy of semidefinite programming (SDP) relaxations [2]. The probabilities are described by projection operators over normalized states -- we label the projectors by $E_i$. They pairwise belong to measurements $M_k$, where $M_1$ and $M_2$ are on one site of the system, and $M_3$ and $M_4$ are on the other site. Hence, for instance, $E_1, E_2\\in M_1$, $E_3, E_4\\in M_2$, and so on. The optimization problem becomes\n",
    "\n",
    "$$\\max_{E,\\phi} \\langle \\phi, \\sum_{ij} c_{ij} E_i E_j\\phi \\rangle$$\n",
    "\n",
    "subject to\n",
    "\n",
    "$$\\begin{split}\n",
    "\\|\\phi\\| & =  1,\\\\\n",
    "E_i^\\dagger & = E_i & \\quad \\forall i,\\\\\n",
    "E_i E_j & = \\delta_{ij}E_i & \\quad E_i,E_j \\in M_k, \\forall k,\\\\\n",
    "\\sum_i E_i & = 1 & \\quad \\forall M_k,\\\\\n",
    "\\lbrack E_i,E_j\\rbrack & = 0 &\\quad \\forall E_i \\in M_1\\cup M_2, E_j\\in M_3\\cup M_4.\n",
    "\\end{split}$$\n",
    "\n",
    "We use the latest git version of [Ncpol2sdpa](http://peterwittek.github.io/ncpol2sdpa/) to translate the polynomial optimization problem to an SDP [3], and then we solve it with [SDPA](http://sdpa.sourceforge.net/download.html). To begin with, we import the necessary functions from Ncpol2sdpa:"
   ]
  },
  {
   "cell_type": "code",
   "execution_count": 1,
   "metadata": {
    "ExecuteTime": {
     "end_time": "2016-12-13T14:35:37.014309",
     "start_time": "2016-12-13T14:35:36.953725"
    },
    "collapsed": false
   },
   "outputs": [
    {
     "ename": "ImportError",
     "evalue": "No module named 'ncpol2sdpa'",
     "output_type": "error",
     "traceback": [
      "\u001b[0;31m---------------------------------------------------------------------------\u001b[0m",
      "\u001b[0;31mImportError\u001b[0m                               Traceback (most recent call last)",
      "\u001b[0;32m<ipython-input-1-a783f73ed1b8>\u001b[0m in \u001b[0;36m<module>\u001b[0;34m()\u001b[0m\n\u001b[0;32m----> 1\u001b[0;31m \u001b[0;32mfrom\u001b[0m \u001b[0mncpol2sdpa\u001b[0m \u001b[0;32mimport\u001b[0m \u001b[0mgenerate_operators\u001b[0m\u001b[0;34m,\u001b[0m \u001b[0mSdpRelaxation\u001b[0m\u001b[0;34m,\u001b[0m                        \u001b[0mprojective_measurement_constraints\u001b[0m\u001b[0;34m\u001b[0m\u001b[0m\n\u001b[0m",
      "\u001b[0;31mImportError\u001b[0m: No module named 'ncpol2sdpa'"
     ]
    }
   ],
   "source": [
    "from ncpol2sdpa import generate_operators, SdpRelaxation, \\\n",
    "                       projective_measurement_constraints"
   ]
  },
  {
   "cell_type": "markdown",
   "metadata": {},
   "source": [
    "We cast the problem in the form of expectation values to get the familiar value of the maximum violation, $2\\sqrt{2}$. This requires defining a helper function to generate the expectation values given the projectors and the outcomes:"
   ]
  },
  {
   "cell_type": "code",
   "execution_count": 2,
   "metadata": {
    "collapsed": false
   },
   "outputs": [],
   "source": [
    "def expectation_values(M, outcomes):\n",
    "    exp_values = []\n",
    "    for k in range(len(M)):\n",
    "        exp_value = 0\n",
    "        for i in range(len(M[k])):\n",
    "            exp_value += outcomes[k][i]*M[k][i]\n",
    "        exp_values.append(exp_value)\n",
    "    return exp_values"
   ]
  },
  {
   "cell_type": "markdown",
   "metadata": {},
   "source": [
    "The total number of variables is 8 ($2^2 2^2$). We generate the necessary number of Hermitian variables and divide them into the appropriate measurements:"
   ]
  },
  {
   "cell_type": "code",
   "execution_count": 5,
   "metadata": {
    "collapsed": false
   },
   "outputs": [],
   "source": [
    "n_vars = 8\n",
    "E = generate_operators('E', n_vars, hermitian=True)\n",
    "M, outcomes = [], []\n",
    "for i in range(n_vars//2):\n",
    "    M.append([E[2*i], E[2*i+1]])\n",
    "    outcomes.append([1, -1])\n",
    "A = [M[0], M[1]]\n",
    "B = [M[2], M[3]]"
   ]
  },
  {
   "cell_type": "markdown",
   "metadata": {},
   "source": [
    "Ncpol2sdpa has a built-in function to generate the constraints for projective measurements. With that, we define the constraints of the optimization problem:"
   ]
  },
  {
   "cell_type": "code",
   "execution_count": 6,
   "metadata": {
    "collapsed": false
   },
   "outputs": [],
   "source": [
    "inequalities= []\n",
    "monomial_substitutions = projective_measurement_constraints(A, B)"
   ]
  },
  {
   "cell_type": "markdown",
   "metadata": {},
   "source": [
    "The objective function uses the expectation values. We have to take the negative of it, as the SDP solver can only minimize a function. The objective for the maximum violation thus becomes:"
   ]
  },
  {
   "cell_type": "code",
   "execution_count": 7,
   "metadata": {
    "collapsed": false
   },
   "outputs": [],
   "source": [
    "C = expectation_values(M, outcomes)\n",
    "objective = -(C[0]*C[2] + C[0]*C[3] + C[1]*C[2] - C[1]*C[3])"
   ]
  },
  {
   "cell_type": "markdown",
   "metadata": {},
   "source": [
    "Setting the relaxation level to one, the solution already converges:"
   ]
  },
  {
   "cell_type": "code",
   "execution_count": 8,
   "metadata": {
    "collapsed": false
   },
   "outputs": [
    {
     "name": "stdout",
     "output_type": "stream",
     "text": [
      "The problem has 8 noncommuting Hermitian variables\n",
      "Calculating block structure...\n",
      "Estimated number of SDP variables: 44\n",
      "Generating moment matrix...\n",
      "Reduced number of SDP variables: 32\n",
      "\n",
      "-2.8284270121271873 -2.8284272225649443\n"
     ]
    }
   ],
   "source": [
    "level = 1\n",
    "sdpRelaxation = SdpRelaxation(E, verbose=2)\n",
    "sdpRelaxation.get_relaxation(level, objective=objective, inequalities=inequalities, \n",
    "                             substitutions=monomial_substitutions)\n",
    "sdpRelaxation.solve()\n",
    "print(sdpRelaxation.primal, sdpRelaxation.dual)"
   ]
  },
  {
   "cell_type": "markdown",
   "metadata": {},
   "source": [
    "**References**\n",
    "\n",
    "[1] Clauser, J. F.; Horne, M. A.; Shimony, A. & Holt, R. A. Proposed Experiment to Test Local Hidden-Variable Theories. *Physical Review Letters*, 1969, 23, 880-884.\n",
    "\n",
    "[2] Navascués, M.; Pironio, S. & Acín, A. A convergent hierarchy of semidefinite programs characterizing the set of quantum correlations. *New Journal of Physics*, 2008, 10, 073013.\n",
    "\n",
    "[3] Wittek, P. Ncpol2sdpa -- Sparse Semidefinite Programming Relaxations for Polynomial Optimization Problems of Noncommuting Variables. *arXiv:1308.6029*, 2013."
   ]
  }
 ],
 "metadata": {
  "kernelspec": {
   "display_name": "Python 3",
   "language": "python",
   "name": "python3"
  },
  "language_info": {
   "codemirror_mode": {
    "name": "ipython",
    "version": 3
   },
   "file_extension": ".py",
   "mimetype": "text/x-python",
   "name": "python",
   "nbconvert_exporter": "python",
   "pygments_lexer": "ipython3",
   "version": "3.5.2"
  }
 },
 "nbformat": 4,
 "nbformat_minor": 0
}
