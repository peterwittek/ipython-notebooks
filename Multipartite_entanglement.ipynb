{
 "cells": [
  {
   "cell_type": "markdown",
   "metadata": {},
   "source": [
    "Detecting genuine multipartite entanglement\n",
    "==\n",
    "This is a notebook to find the optimal visibility in n-partite entangled states, such as noisy GHZ states. For more information refer to the following manuscript:\n",
    "\n",
    "Bancal, J.-D.; Gisin, N.; Liang, Y.-C. & Pironio, S. Device-Independent Witnesses of Genuine Multipartite Entanglement. Physics Review Letters, 2011, 106, 250404. [arxiv:1102.0197](http://arxiv.org/abs/1102.0197)\n"
   ]
  },
  {
   "cell_type": "code",
   "execution_count": null,
   "metadata": {
    "ExecuteTime": {
     "end_time": "2016-12-27T12:45:37.092750",
     "start_time": "2016-12-27T12:45:36.360959"
    },
    "collapsed": true
   },
   "outputs": [],
   "source": [
    "import warnings\n",
    "from numpy import array, cos, dot, equal, kron, mod, pi, random, real, \\\n",
    "    reshape, sin, sqrt, zeros\n",
    "from qutip import expect, basis, qeye, sigmax, sigmay, sigmaz, tensor\n",
    "from scipy.optimize import minimize\n",
    "from ncpol2sdpa import SdpRelaxation, generate_variables, flatten, \\\n",
    "    generate_measurements, projective_measurement_constraints"
   ]
  },
  {
   "cell_type": "markdown",
   "metadata": {
    "ExecuteTime": {
     "end_time": "2016-12-27T12:46:38.414340",
     "start_time": "2016-12-27T12:46:38.407257"
    }
   },
   "source": [
    "Define the correlations given the number of parties, measurements, and measurement outputs on a state:"
   ]
  },
  {
   "cell_type": "code",
   "execution_count": null,
   "metadata": {
    "ExecuteTime": {
     "end_time": "2016-12-27T12:45:46.130016",
     "start_time": "2016-12-27T12:45:46.058875"
    },
    "collapsed": true
   },
   "outputs": [],
   "source": [
    "def correl_qubits(psi, sett, N, M, K, variables=None):\n",
    "    '''Computes the correlations expected when some quantum state is\n",
    "    measured according to some settings.\n",
    "    '''\n",
    "    # Setting up context and checking input\n",
    "    nbInputs = len(sett)/2./N\n",
    "    if nbInputs % 1 != 0:\n",
    "        warnings.warn('Warning: Bad input for correl_qubits.', UserWarning)\n",
    "    else:\n",
    "        nbInputs = int(nbInputs)\n",
    "\n",
    "    # Measurement operators definition\n",
    "    c = [cos(v) for v in sett]\n",
    "    s = [sin(v) for v in sett]\n",
    "\n",
    "    A = [qeye(2)]\n",
    "    B = [qeye(2)]\n",
    "    C = [qeye(2)]\n",
    "    for i in range(nbInputs):\n",
    "        A.append((qeye(2) + s[2*i]*c[2*i+1]*sigmax() +\n",
    "                  s[2*i]*s[2*i+1]*sigmay() + c[2*i]*sigmaz())/2)\n",
    "        B.append((qeye(2) + s[2*i+2*nbInputs]*c[2*i+2*nbInputs+1]*sigmax() +\n",
    "                  s[2*i+2*nbInputs]*s[2*i+2*nbInputs+1]*sigmay() +\n",
    "                  c[2*i+2*nbInputs]*sigmaz())/2)\n",
    "        C.append((qeye(2) + s[2*i+4*nbInputs]*c[2*i+4*nbInputs+1]*sigmax() +\n",
    "                  s[2*i+4*nbInputs]*s[2*i+4*nbInputs+1]*sigmay() +\n",
    "                  c[2*i+4*nbInputs]*sigmaz())/2)\n",
    "\n",
    "    # Now we compute the multipartite operators.\n",
    "    operators = [tensor(Ai, Bj, Ck) for Ai in A for Bj in B for Ck in C]\n",
    "    probabilities = [expect(op, psi) for op in operators]\n",
    "    if variables is not None:\n",
    "        symb_vars = [Ai*Bj*Ck for Ai in flatten([1, variables[0]])\n",
    "                     for Bj in flatten([1, variables[1]])\n",
    "                     for Ck in flatten([1, variables[2]])]\n",
    "        ret = {}\n",
    "        for i, probability in enumerate(probabilities):\n",
    "            ret[symb_vars[i]] = probability\n",
    "    else:\n",
    "        ret = probabilities\n",
    "\n",
    "    return ret"
   ]
  },
  {
   "cell_type": "markdown",
   "metadata": {},
   "source": [
    "The following two functions help define the algebra of the bipartite operators, and also define the equalities of the moments given the correlations."
   ]
  },
  {
   "cell_type": "code",
   "execution_count": null,
   "metadata": {
    "ExecuteTime": {
     "end_time": "2016-12-27T12:36:41.778908",
     "start_time": "2016-12-27T12:36:41.686406"
    },
    "collapsed": false
   },
   "outputs": [],
   "source": [
    "def generate_substitutions(A, B, C):\n",
    "    '''Defines additional substitution rules over the projectors to include\n",
    "    biseparation and the independence of algebras.\n",
    "    '''\n",
    "    substitutions = {}\n",
    "    # Biseparation\n",
    "    for m1 in range(len(A[0])):\n",
    "        for m2 in range(m1+1, len(A[0])):\n",
    "            for k1 in range(len(A[0][m1])):\n",
    "                for k2 in range(len(A[0][m2])):\n",
    "                    substitutions[A[0][m2][k2]*A[0][m1][k1]] = \\\n",
    "                                  A[0][m1][k1]*A[0][m2][k2]\n",
    "                    substitutions[B[1][m2][k2]*B[1][m1][k1]] = \\\n",
    "                                  B[1][m1][k1]*B[1][m2][k2]\n",
    "                    substitutions[C[2][m2][k2]*C[2][m1][k1]] = \\\n",
    "                                  C[2][m1][k1]*C[2][m2][k2]\n",
    "\n",
    "    # Independence of algebras\n",
    "    for s1 in range(len(A)):\n",
    "        for s2 in range(len(A)):\n",
    "            if s1 != s2:\n",
    "                for m1 in range(len(A[s1])):\n",
    "                    for m2 in range(len(A[s2])):\n",
    "                        for k1 in range(len(A[s1][m1])):\n",
    "                            for k2 in range(len(A[s1][m1])):\n",
    "                                substitutions[A[s1][m1][k1]*A[s2][m2][k2]] = 0\n",
    "                                substitutions[B[s1][m1][k1]*B[s2][m2][k2]] = 0\n",
    "                                substitutions[C[s1][m1][k1]*C[s2][m2][k2]] = 0\n",
    "                                substitutions[A[s1][m1][k1]*B[s2][m2][k2]] = 0\n",
    "                                substitutions[A[s1][m1][k1]*C[s2][m2][k2]] = 0\n",
    "                                substitutions[B[s1][m1][k1]*C[s2][m2][k2]] = 0\n",
    "                                substitutions[B[s1][m1][k1]*A[s2][m2][k2]] = 0\n",
    "                                substitutions[C[s1][m1][k1]*A[s2][m2][k2]] = 0\n",
    "                                substitutions[C[s1][m1][k1]*B[s2][m2][k2]] = 0\n",
    "    return substitutions\n",
    "\n",
    "\n",
    "def generate_equality_constraints(A, B, C, lamb, Prob):\n",
    "    '''\n",
    "    The correlation constraints are  equalities.\n",
    "    '''\n",
    "    S = len(A)\n",
    "    M = len(A[0])\n",
    "    K = len(A[0][0]) + 1\n",
    "    eqs = []\n",
    "    for m1 in range(M):\n",
    "        for k1 in range(K-1):  # 1-partite marginals:\n",
    "            eqs.append(sum(A[s][m1][k1] for s in range(S)) - ((1-lamb)*1/K +\n",
    "                       lamb*Prob[A[0][m1][k1]]))\n",
    "            eqs.append(sum(B[s][m1][k1] for s in range(S)) - ((1-lamb)*1/K +\n",
    "                       lamb*Prob[B[0][m1][k1]]))\n",
    "            eqs.append(sum(C[s][m1][k1] for s in range(S)) - ((1-lamb)*1/K +\n",
    "                       lamb*Prob[C[0][m1][k1]]))\n",
    "            for m2 in range(M):\n",
    "                for k2 in range(K-1):  # 2-partite marginals:\n",
    "                    eqs.append(sum(A[s][m1][k1]*B[s][m2][k2] for s in range(S))\n",
    "                               - ((1-lamb)*1/(K**2) +\n",
    "                               lamb*Prob[A[0][m1][k1]*B[0][m2][k2]]))\n",
    "                    eqs.append(sum(A[s][m1][k1]*C[s][m2][k2] for s in range(S))\n",
    "                               - ((1-lamb)*1/(K**2) +\n",
    "                               lamb*Prob[A[0][m1][k1]*C[0][m2][k2]]))\n",
    "                    eqs.append(sum(B[s][m1][k1]*C[s][m2][k2] for s in range(S))\n",
    "                               - ((1-lamb)*1/(K**2) +\n",
    "                               lamb*Prob[B[0][m1][k1]*C[0][m2][k2]]))\n",
    "                    for m3 in range(M):\n",
    "                        for k3 in range(K-1):  # joint probabilities:\n",
    "                            eqs.append(\n",
    "                              sum(A[s][m1][k1]*B[s][m2][k2]*C[s][m3][k3]\n",
    "                              for s in range(S)) - ((1-lamb)*1/(K**3) +lamb*\n",
    "                              Prob[A[0][m1][k1]*B[0][m2][k2]*C[0][m3][k3]]))\n",
    "    return eqs"
   ]
  },
  {
   "cell_type": "markdown",
   "metadata": {},
   "source": [
    "The following two functions generate the SDP relaxation and a given point in the optimization."
   ]
  },
  {
   "cell_type": "code",
   "execution_count": null,
   "metadata": {
    "ExecuteTime": {
     "end_time": "2016-12-27T12:36:58.893027",
     "start_time": "2016-12-27T12:36:58.840401"
    },
    "collapsed": true
   },
   "outputs": [],
   "source": [
    "def get_relaxation(psi, settings, K, M, level, verbose=0):\n",
    "    N = 3  # Number of parties\n",
    "    partitions = ['BC|A', 'AC|B', 'AB|C']\n",
    "    S = len(partitions)  # Number of possible partitions\n",
    "    configuration = [K] * M\n",
    "    # Noncommuting variables\n",
    "    A = [[] for _ in range(S)]\n",
    "    B = [[] for _ in range(S)]\n",
    "    C = [[] for _ in range(S)]\n",
    "    for s, partition in enumerate(partitions):\n",
    "        A[s] = generate_measurements(configuration, 'A^%s_' % (partition))\n",
    "        B[s] = generate_measurements(configuration, 'B^%s_' % (partition))\n",
    "        C[s] = generate_measurements(configuration, 'C^%s_' % (partition))\n",
    "\n",
    "    # Commuting, real-valued variable\n",
    "    lambda_ = generate_variables('lambda')[0]\n",
    "\n",
    "    # Obtain monomial substitutions to simplify the monomial basis\n",
    "    substitutions = generate_substitutions(A, B, C)\n",
    "    for s in range(S):\n",
    "        substitutions.update(projective_measurement_constraints(A[s], B[s],\n",
    "                                                                C[s]))\n",
    "\n",
    "    if verbose > 0:\n",
    "        print('Total number of substitutions: %s' % len(substitutions))\n",
    "    probabilities = correl_qubits(psi, settings, N, M, K, [A[0], B[0], C[0]])\n",
    "    # The probabilities enter the problem through equality constraints\n",
    "    equalities = generate_equality_constraints(A, B, C, lambda_, probabilities)\n",
    "    if verbose > 0:\n",
    "        print('Total number of equality constraints: %s' % len(equalities))\n",
    "    objective = -lambda_\n",
    "    if verbose > 0:\n",
    "        print('Objective function: %s' % objective)\n",
    "    # Obtain SDP relaxation\n",
    "    sdpRelaxation = SdpRelaxation(flatten([A, B, C]), parameters=[lambda_],\n",
    "                                  verbose=verbose)\n",
    "    sdpRelaxation.get_relaxation(level, objective=objective,\n",
    "                                 momentequalities=equalities,\n",
    "                                 substitutions=substitutions)\n",
    "    variables = [A, B, C, lambda_]\n",
    "    return variables, sdpRelaxation\n",
    "\n",
    "\n",
    "def get_solution(variables, sdpRelaxation, psi, settings):\n",
    "    M = len(variables[0][0])\n",
    "    K = len(variables[0][0][0]) + 1\n",
    "    probabilities = correl_qubits(psi, settings, 3, M, K, [variables[0][0],\n",
    "                                                           variables[1][0],\n",
    "                                                           variables[2][0]])\n",
    "    equalities = generate_equality_constraints(variables[0], variables[1],\n",
    "                                               variables[2], variables[3],\n",
    "                                               probabilities)\n",
    "    sdpRelaxation.process_constraints(momentequalities=equalities)\n",
    "    sdpRelaxation.solve()\n",
    "    return sdpRelaxation.primal"
   ]
  },
  {
   "cell_type": "markdown",
   "metadata": {},
   "source": [
    "This is the function we would like to optimize:"
   ]
  },
  {
   "cell_type": "code",
   "execution_count": null,
   "metadata": {
    "collapsed": true
   },
   "outputs": [],
   "source": [
    "def funk(settings):\n",
    "    value = get_solution(variables, sdpRelaxation, psi, settings)\n",
    "    print(value)\n",
    "    return value"
   ]
  },
  {
   "cell_type": "markdown",
   "metadata": {},
   "source": [
    "We try it on a particular setting:"
   ]
  },
  {
   "cell_type": "code",
   "execution_count": null,
   "metadata": {
    "ExecuteTime": {
     "end_time": "2016-12-27T12:49:41.743490",
     "start_time": "2016-12-27T12:49:41.674186"
    },
    "collapsed": false
   },
   "outputs": [],
   "source": [
    "N = 3      # Number of parties\n",
    "M = 2      # Number of measuerment settings\n",
    "K = 2      # Number of outcomes\n",
    "level = 2  # Order of relaxation\n",
    "psi = (tensor(basis(2, 0), basis(2, 0), basis(2, 0)) +\n",
    "       tensor(basis(2, 1), basis(2, 1), basis(2, 1))).unit()  # GHZ state\n",
    "settings = [pi/2, -pi/12, pi/2, -pi/12+pi/2, pi/2, -pi/12, pi/2,\n",
    "            -pi/12+pi/2, pi/2, -pi/12, pi/2, -pi/12+pi/2]\n",
    "result = minimize(funk, settings)"
   ]
  }
 ],
 "metadata": {
  "kernelspec": {
   "display_name": "Python 3",
   "language": "python",
   "name": "python3"
  },
  "language_info": {
   "codemirror_mode": {
    "name": "ipython",
    "version": 3
   },
   "file_extension": ".py",
   "mimetype": "text/x-python",
   "name": "python",
   "nbconvert_exporter": "python",
   "pygments_lexer": "ipython3",
   "version": "3.5.2"
  }
 },
 "nbformat": 4,
 "nbformat_minor": 2
}
