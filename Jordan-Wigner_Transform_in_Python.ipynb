{
 "cells": [
  {
   "cell_type": "markdown",
   "metadata": {},
   "source": [
    "# The Jordan-Wigner Transform in Python"
   ]
  },
  {
   "cell_type": "markdown",
   "metadata": {},
   "source": [
    "Hamiltonians on one dimensional chains provide a good sanity check when trying out new numerical methods. The Jordan-Wigner transform is an easy way to obtain the eigenvalues of systems of fermions. For an annihiliation operator $a_j$, the transform is defined as $a_j = - (\\otimes_{k=1}^{j-1} \\sigma_z)\\otimes \\sigma_j$, where $\\sigma_z$ is the Pauli operator along the $z$ axis, and $\\sigma_j$ is the operator $|0\\rangle\\langle 1|$ acting on site $j$.\n",
    "\n",
    "The series of Kronecker products would be an ideal application of a nest function, but Python does not have such a function built in. Instead, we define a recursive function to get the desired Kronecker product:"
   ]
  },
  {
   "cell_type": "code",
   "execution_count": 1,
   "metadata": {
    "ExecuteTime": {
     "end_time": "2016-12-13T14:38:53.664510",
     "start_time": "2016-12-13T14:38:53.612543"
    },
    "collapsed": false
   },
   "outputs": [],
   "source": [
    "import numpy as np\n",
    "\n",
    "def nested_kronecker_product(a):\n",
    "    if len(a) == 2:\n",
    "        return np.kron(a[0],a[1])\n",
    "    else:\n",
    "        return np.kron(a[0], nested_kronecker_product(a[1:]))"
   ]
  },
  {
   "cell_type": "markdown",
   "metadata": {},
   "source": [
    "With this function, the transform is easy to define. We pad the transform with identity operators to match the lattice length:"
   ]
  },
  {
   "cell_type": "code",
   "execution_count": 2,
   "metadata": {
    "collapsed": false
   },
   "outputs": [],
   "source": [
    "def jordan_wigner_transform(j, lattice_length):\n",
    "    sigma = np.array([[0, 1], [0, 0]])\n",
    "    sigma_z = np.array([[1, 0], [0, -1]])\n",
    "    I = np.eye(2)\n",
    "    operators = []\n",
    "    for k in range(j):\n",
    "        operators.append(sigma_z)\n",
    "    operators.append(sigma)\n",
    "    for k in range(lattice_length-j-1):\n",
    "        operators.append(I)\n",
    "    return -nested_kronecker_product(operators)"
   ]
  },
  {
   "cell_type": "markdown",
   "metadata": {},
   "source": [
    "Now we can get our transformed fermionic operators:"
   ]
  },
  {
   "cell_type": "code",
   "execution_count": 3,
   "metadata": {
    "collapsed": false
   },
   "outputs": [],
   "source": [
    "lattice_length = 4\n",
    "a = []\n",
    "for i in range(lattice_length):\n",
    "    a.append(jordan_wigner_transform(i, lattice_length))"
   ]
  },
  {
   "cell_type": "markdown",
   "metadata": {},
   "source": [
    "Next we define a Hamiltonian of interest, namely spinless fermions on an open chain:\n",
    "\n",
    "$H=\\sum_{<rs>}\\left(c_{r}^{\\dagger} c_{s}+c_{s}^{\\dagger} c_{r}-\\gamma(c_{r}^{\\dagger} c_{s}^{\\dagger}+c_{s}c_{r} )\\right)-2\\lambda\\sum_{r}c_{r}^{\\dagger}c_{r},$\n",
    "\n",
    "where $r$ and $s$ indicate neighbors on the chain. The Python definition of this Hamiltonian is"
   ]
  },
  {
   "cell_type": "code",
   "execution_count": 4,
   "metadata": {
    "collapsed": false
   },
   "outputs": [],
   "source": [
    "def hamiltonian(gam, lam, a, lattice_length):\n",
    "    H = 0\n",
    "    for i in range(lattice_length - 1):\n",
    "        H += a[i].T.dot(a[i+1]) - a[i].dot(a[i+1].T)\n",
    "        H -= gam*(a[i].T.dot(a[i+1].T) - a[i].dot(a[i+1]))\n",
    "    for i in range(lattice_length):\n",
    "        H -= 2*lam*(a[i].dot(a[i].T))\n",
    "    return H"
   ]
  },
  {
   "cell_type": "markdown",
   "metadata": {},
   "source": [
    "Here we observed the fermionic canonical commutation relations and performed substitutions. To get the eigenvalues for a particular parameter combination, we write"
   ]
  },
  {
   "cell_type": "code",
   "execution_count": 5,
   "metadata": {
    "collapsed": false
   },
   "outputs": [
    {
     "data": {
      "text/plain": [
       "[-8.7587704831436479,\n",
       " -8.0641777724759276,\n",
       " -6.7587704831436497,\n",
       " -6.0641777724759232,\n",
       " -5.694592710667723,\n",
       " -5.0000000000000036,\n",
       " -4.9999999999999991,\n",
       " -4.3054072893322797,\n",
       " -3.6945927106677212,\n",
       " -3.0000000000000004,\n",
       " -2.9999999999999991,\n",
       " -2.3054072893322788,\n",
       " -1.9358222275240897,\n",
       " -1.241229516856365,\n",
       " 0.064177772475912706,\n",
       " 0.75877048314363438]"
      ]
     },
     "execution_count": 5,
     "metadata": {},
     "output_type": "execute_result"
    }
   ],
   "source": [
    "gam, lam =1, 1\n",
    "H = hamiltonian(gam, lam, a, lattice_length)\n",
    "eigenvalues = np.linalg.eig(H)[0]\n",
    "sorted(eigenvalues)"
   ]
  }
 ],
 "metadata": {
  "kernelspec": {
   "display_name": "Python 3",
   "language": "python",
   "name": "python3"
  },
  "language_info": {
   "codemirror_mode": {
    "name": "ipython",
    "version": 3
   },
   "file_extension": ".py",
   "mimetype": "text/x-python",
   "name": "python",
   "nbconvert_exporter": "python",
   "pygments_lexer": "ipython3",
   "version": "3.5.2"
  }
 },
 "nbformat": 4,
 "nbformat_minor": 0
}
